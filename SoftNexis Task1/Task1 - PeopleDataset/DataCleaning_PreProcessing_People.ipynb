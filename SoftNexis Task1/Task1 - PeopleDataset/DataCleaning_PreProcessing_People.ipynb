{
 "cells": [
  {
   "cell_type": "code",
   "execution_count": 1,
   "id": "0365d1aa",
   "metadata": {},
   "outputs": [],
   "source": [
    "import pandas as pd\n",
    "import numpy as np\n",
    "from sklearn.preprocessing import StandardScaler\n",
    "from sklearn.preprocessing import LabelEncoder\n",
    "import matplotlib.pyplot as plt\n",
    "\n"
   ]
  },
  {
   "cell_type": "code",
   "execution_count": 2,
   "id": "94b0a6c1",
   "metadata": {},
   "outputs": [
    {
     "name": "stdout",
     "output_type": "stream",
     "text": [
      "   Index          User Id First Name Last Name     Sex                       Email                   Phone Date of birth           Job Title\n",
      "0      1  88F7B33d2bcf9f5     Shelby   Terrell    Male        elijah57@example.net  001-084-906-7849x73518    1945-10-26     Games developer\n",
      "1      2  f90cD3E76f1A9b9    Phillip   Summers  Female       bethany14@example.com       214.112.6044x4913    1910-03-24      Phytotherapist\n",
      "2      3  DbeAb8CcdfeFC2c   Kristine    Travis    Male       bthompson@example.com            277.609.7938    1992-07-02           Homeopath\n",
      "3      4  A31Bee3c201ef58    Yesenia  Martinez    Male   kaitlinkaiser@example.com            584.094.6111    2017-08-03   Market researcher\n",
      "4      5  1bA7A3dc874da3c       Lori      Todd    Male  buchananmanuel@example.net       689-207-3558x7233    1938-12-01  Veterinary surgeon\n",
      "\n",
      "\n",
      "<class 'pandas.core.frame.DataFrame'>\n",
      "RangeIndex: 100 entries, 0 to 99\n",
      "Data columns (total 9 columns):\n",
      " #   Column         Non-Null Count  Dtype \n",
      "---  ------         --------------  ----- \n",
      " 0   Index          100 non-null    int64 \n",
      " 1   User Id        100 non-null    object\n",
      " 2   First Name     100 non-null    object\n",
      " 3   Last Name      100 non-null    object\n",
      " 4   Sex            100 non-null    object\n",
      " 5   Email          100 non-null    object\n",
      " 6   Phone          100 non-null    object\n",
      " 7   Date of birth  100 non-null    object\n",
      " 8   Job Title      100 non-null    object\n",
      "dtypes: int64(1), object(8)\n",
      "memory usage: 7.2+ KB\n",
      "None\n",
      "\n",
      "\n",
      "(100, 9)\n"
     ]
    }
   ],
   "source": [
    "database_Peoples = pd.read_csv('people-100.csv')\n",
    "print(database_Peoples.head().to_string())\n",
    "print(\"\\n\")\n",
    "print(database_Peoples.info())\n",
    "print(\"\\n\")\n",
    "print(database_Peoples.shape)"
   ]
  },
  {
   "cell_type": "code",
   "execution_count": 3,
   "id": "6f5459c6",
   "metadata": {},
   "outputs": [
    {
     "name": "stdout",
     "output_type": "stream",
     "text": [
      "Number of duplicated rows:  0\n",
      "The Duplicated Rows are: \n",
      " Empty DataFrame\n",
      "Columns: [Index, User Id, First Name, Last Name, Sex, Email, Phone, Date of birth, Job Title]\n",
      "Index: []\n",
      "\n",
      "\n",
      "The Database Without the Duplicaed Rows Here \n",
      "     Index          User Id First Name Last Name     Sex                       Email                   Phone Date of birth           Job Title\n",
      "0      1  88F7B33d2bcf9f5     Shelby   Terrell    Male        elijah57@example.net  001-084-906-7849x73518    1945-10-26     Games developer\n",
      "1      2  f90cD3E76f1A9b9    Phillip   Summers  Female       bethany14@example.com       214.112.6044x4913    1910-03-24      Phytotherapist\n",
      "2      3  DbeAb8CcdfeFC2c   Kristine    Travis    Male       bthompson@example.com            277.609.7938    1992-07-02           Homeopath\n",
      "3      4  A31Bee3c201ef58    Yesenia  Martinez    Male   kaitlinkaiser@example.com            584.094.6111    2017-08-03   Market researcher\n",
      "4      5  1bA7A3dc874da3c       Lori      Todd    Male  buchananmanuel@example.net       689-207-3558x7233    1938-12-01  Veterinary surgeon\n",
      "\n",
      "\n",
      "The No People Database Partial Duplicates Rows are:  0\n",
      "\n",
      "\n",
      "   Index          User Id First Name Last Name     Sex                       Email                   Phone Date of birth           Job Title\n",
      "0      1  88F7B33d2bcf9f5     Shelby   Terrell    Male        elijah57@example.net  001-084-906-7849x73518    1945-10-26     Games developer\n",
      "1      2  f90cD3E76f1A9b9    Phillip   Summers  Female       bethany14@example.com       214.112.6044x4913    1910-03-24      Phytotherapist\n",
      "2      3  DbeAb8CcdfeFC2c   Kristine    Travis    Male       bthompson@example.com            277.609.7938    1992-07-02           Homeopath\n",
      "3      4  A31Bee3c201ef58    Yesenia  Martinez    Male   kaitlinkaiser@example.com            584.094.6111    2017-08-03   Market researcher\n",
      "4      5  1bA7A3dc874da3c       Lori      Todd    Male  buchananmanuel@example.net       689-207-3558x7233    1938-12-01  Veterinary surgeon\n"
     ]
    }
   ],
   "source": [
    "#Identify and remove exact/partial duplicate rows\n",
    "DuplicateRowsum = database_Peoples.duplicated().sum()\n",
    "print(\"Number of duplicated rows: \",DuplicateRowsum )\n",
    "print(\"The Duplicated Rows are: \\n\", database_Peoples[database_Peoples.duplicated()])\n",
    "print(\"\\n\")\n",
    "database_withDuplicatedRowsGone = database_Peoples.drop_duplicates()\n",
    "print(\"The Database Without the Duplicaed Rows Here \\n \", database_withDuplicatedRowsGone.head().to_string())\n",
    "print(\"\\n\")\n",
    "\n",
    "\n",
    "\n",
    "PartialCopyRowSum = database_Peoples.duplicated(subset= database_Peoples.columns.difference(['Index']) , keep=\"first\").sum()\n",
    "print(\"The No People Database Partial Duplicates Rows are: \", PartialCopyRowSum)\n",
    "print(\"\\n\")\n",
    "\n",
    "PeopleNoduplicate = database_Peoples.drop_duplicates(subset = database_Peoples.columns.difference(['Index']) , keep = 'first')\n",
    "print(PeopleNoduplicate.head().to_string())"
   ]
  },
  {
   "cell_type": "code",
   "execution_count": 4,
   "id": "0c2cc4be",
   "metadata": {},
   "outputs": [
    {
     "name": "stdout",
     "output_type": "stream",
     "text": [
      "Rows with cross-column redundancy:\n",
      "So we are observing that there is no Cross Column Redundancy in the People Dataset \n",
      "\n"
     ]
    }
   ],
   "source": [
    "\n",
    "\n",
    "Cross_Columns_people = ['First Name', 'Last Name', 'Email', 'Job Title']\n",
    "\n",
    "paritalDuplicateRows = []\n",
    "\n",
    "for index, row in database_Peoples.iterrows():\n",
    "    for i in range(len(Cross_Columns_people)):\n",
    "        for j in range(i+1, len(Cross_Columns_people)):\n",
    "            datacal1 = str(row[Cross_Columns_people[i]]).lower()\n",
    "            datacal2 = str(row[Cross_Columns_people[j]]).lower()\n",
    "            if datacal1 and datacal1 != \"nan\" and datacal1 in datacal2:\n",
    "                paritalDuplicateRows.append((index, Cross_Columns_people[i], Cross_Columns_people[j], row[Cross_Columns_people[i]], row[Cross_Columns_people[j]]))\n",
    "\n",
    "print(\"Rows with cross-column redundancy:\")\n",
    "for r in paritalDuplicateRows:\n",
    "    print(r)\n",
    "\n",
    "\n",
    "print(\"So we are observing that there is no Cross Column Redundancy in the People Dataset \\n\")"
   ]
  },
  {
   "cell_type": "code",
   "execution_count": 5,
   "id": "071e3c95",
   "metadata": {},
   "outputs": [
    {
     "name": "stdout",
     "output_type": "stream",
     "text": [
      "<class 'pandas.core.frame.DataFrame'>\n",
      "RangeIndex: 100 entries, 0 to 99\n",
      "Data columns (total 9 columns):\n",
      " #   Column         Non-Null Count  Dtype \n",
      "---  ------         --------------  ----- \n",
      " 0   Index          100 non-null    int64 \n",
      " 1   User Id        100 non-null    object\n",
      " 2   First Name     100 non-null    object\n",
      " 3   Last Name      100 non-null    object\n",
      " 4   Sex            100 non-null    object\n",
      " 5   Email          100 non-null    object\n",
      " 6   Phone          100 non-null    object\n",
      " 7   Date of birth  100 non-null    object\n",
      " 8   Job Title      100 non-null    object\n",
      "dtypes: int64(1), object(8)\n",
      "memory usage: 7.2+ KB\n",
      "None\n",
      "   PeopleUserIndex    PeopleUser_Id PeopleUserFname PeopleUserLname PeopleUserGender             PeopleUserEmail       PeopleUserPhoneNo PeopleUserDob   PeopleUserJobdesc\n",
      "0                1  88F7B33d2bcf9f5          Shelby         Terrell             Male        elijah57@example.net  001-084-906-7849x73518    1945-10-26     Games developer\n",
      "1                2  f90cD3E76f1A9b9         Phillip         Summers           Female       bethany14@example.com       214.112.6044x4913    1910-03-24      Phytotherapist\n",
      "2                3  DbeAb8CcdfeFC2c        Kristine          Travis             Male       bthompson@example.com            277.609.7938    1992-07-02           Homeopath\n",
      "3                4  A31Bee3c201ef58         Yesenia        Martinez             Male   kaitlinkaiser@example.com            584.094.6111    2017-08-03   Market researcher\n",
      "4                5  1bA7A3dc874da3c            Lori            Todd             Male  buchananmanuel@example.net       689-207-3558x7233    1938-12-01  Veterinary surgeon\n"
     ]
    }
   ],
   "source": [
    "# Rename columns\n",
    "\n",
    "print(database_Peoples.info())\n",
    "\n",
    "\n",
    "database_Peoples = database_Peoples.rename(columns={\n",
    "    \"Index\": \"PeopleUserIndex\",\n",
    "    \"User Id\": \"PeopleUser_Id\",\n",
    "    \"First Name\": \"PeopleUserFname\",\n",
    "    \"Last Name\": \"PeopleUserLname\",\n",
    "    \"Sex\": \"PeopleUserGender\",\n",
    "    \"Email\": \"PeopleUserEmail\",\n",
    "    \"Phone\": \"PeopleUserPhoneNo\",\n",
    "    \"Date of birth\": \"PeopleUserDob\",\n",
    "    \"Job Title\": \"PeopleUserJobdesc\"\n",
    "})\n",
    "\n",
    "# Reorder columns\n",
    "database_Peoples = database_Peoples[[\n",
    "    \"PeopleUserIndex\",\n",
    "    \"PeopleUser_Id\",\n",
    "    \"PeopleUserFname\",\n",
    "    \"PeopleUserLname\",\n",
    "    \"PeopleUserGender\",\n",
    "    \"PeopleUserEmail\",\n",
    "    \"PeopleUserPhoneNo\",\n",
    "    \"PeopleUserDob\",\n",
    "    \"PeopleUserJobdesc\"\n",
    "]]\n",
    "\n",
    "print(database_Peoples.head().to_string())\n",
    "\n"
   ]
  },
  {
   "cell_type": "code",
   "execution_count": 6,
   "id": "7e1d47a3",
   "metadata": {},
   "outputs": [
    {
     "name": "stdout",
     "output_type": "stream",
     "text": [
      "Missing Values in each Column: \n",
      " PeopleUserIndex      0\n",
      "PeopleUser_Id        0\n",
      "PeopleUserFname      0\n",
      "PeopleUserLname      0\n",
      "PeopleUserGender     0\n",
      "PeopleUserEmail      0\n",
      "PeopleUserPhoneNo    0\n",
      "PeopleUserDob        0\n",
      "PeopleUserJobdesc    0\n",
      "dtype: int64\n",
      "\n",
      "\n",
      "Percentage of Missing Values in each Column: \n",
      " PeopleUserIndex      0.0\n",
      "PeopleUser_Id        0.0\n",
      "PeopleUserFname      0.0\n",
      "PeopleUserLname      0.0\n",
      "PeopleUserGender     0.0\n",
      "PeopleUserEmail      0.0\n",
      "PeopleUserPhoneNo    0.0\n",
      "PeopleUserDob        0.0\n",
      "PeopleUserJobdesc    0.0\n",
      "dtype: float64\n",
      "                   Missing_Values_Coloums  Missing_Values_Count  Missing_ValuesIn_Percentage\n",
      "PeopleUserIndex                     False                     0                          0.0\n",
      "PeopleUser_Id                       False                     0                          0.0\n",
      "PeopleUserFname                     False                     0                          0.0\n",
      "PeopleUserLname                     False                     0                          0.0\n",
      "PeopleUserGender                    False                     0                          0.0\n",
      "PeopleUserEmail                     False                     0                          0.0\n",
      "PeopleUserPhoneNo                   False                     0                          0.0\n",
      "PeopleUserDob                       False                     0                          0.0\n",
      "PeopleUserJobdesc                   False                     0                          0.0\n"
     ]
    }
   ],
   "source": [
    "print(\"Missing Values in each Column: \\n\", database_Peoples.isnull().sum())\n",
    "print(\"\\n\")\n",
    "print(\"Percentage of Missing Values in each Column: \\n\", (database_Peoples.isnull().mean()*100))\n",
    "\n",
    "Missing_Values_Coloums_Dataframe = pd.DataFrame({\n",
    "    'Missing_Values_Coloums': database_Peoples.isnull().any(),\n",
    "    'Missing_Values_Count': database_Peoples.isnull().sum(),\n",
    "    'Missing_ValuesIn_Percentage': (database_Peoples.isnull().sum() / len(database_Peoples)) * 100\n",
    "})\n",
    "\n",
    "print(Missing_Values_Coloums_Dataframe.to_string())\n"
   ]
  },
  {
   "cell_type": "code",
   "execution_count": 7,
   "id": "5fa8e1ea",
   "metadata": {},
   "outputs": [
    {
     "name": "stdout",
     "output_type": "stream",
     "text": [
      "The Database After Dropping the Coloums with more than 70% Missing Values are : \n",
      "    PeopleUserIndex    PeopleUser_Id PeopleUserFname PeopleUserLname PeopleUserGender             PeopleUserEmail       PeopleUserPhoneNo PeopleUserDob   PeopleUserJobdesc\n",
      "0                1  88F7B33d2bcf9f5          Shelby         Terrell             Male        elijah57@example.net  001-084-906-7849x73518    1945-10-26     Games developer\n",
      "1                2  f90cD3E76f1A9b9         Phillip         Summers           Female       bethany14@example.com       214.112.6044x4913    1910-03-24      Phytotherapist\n",
      "2                3  DbeAb8CcdfeFC2c        Kristine          Travis             Male       bthompson@example.com            277.609.7938    1992-07-02           Homeopath\n",
      "3                4  A31Bee3c201ef58         Yesenia        Martinez             Male   kaitlinkaiser@example.com            584.094.6111    2017-08-03   Market researcher\n",
      "4                5  1bA7A3dc874da3c            Lori            Todd             Male  buchananmanuel@example.net       689-207-3558x7233    1938-12-01  Veterinary surgeon\n"
     ]
    }
   ],
   "source": [
    "\n",
    "# Deletion: Drop rows/columns if >70% missing\n",
    "\n",
    "MissingValuePercentage =  database_Peoples.isna().mean()\n",
    "Database_After_DropedColoums = database_Peoples.loc[:, MissingValuePercentage <= 0.7]\n",
    "\n",
    "MissingValuePercentagerow =  database_Peoples.isna().mean(axis=1)\n",
    "Database_After_DropedRows = database_Peoples.loc[MissingValuePercentagerow <= 0.7, :]\n",
    "\n",
    "print(\"The Database After Dropping the Coloums with more than 70% Missing Values are : \\n\", Database_After_DropedColoums.head().to_string())"
   ]
  },
  {
   "cell_type": "code",
   "execution_count": 8,
   "id": "28c0da7a",
   "metadata": {},
   "outputs": [
    {
     "name": "stdout",
     "output_type": "stream",
     "text": [
      "Filled NaN in numeric column 'PeopleUserIndex' with Median = 50.5\n",
      "Filled NaN in categorical column 'PeopleUser_Id' with Mode = 035eff50B9A0F24\n",
      "Filled NaN in categorical column 'PeopleUserFname' with Mode = Brittney\n",
      "Filled NaN in categorical column 'PeopleUserLname' with Mode = Andrews\n",
      "Filled NaN in categorical column 'PeopleUserGender' with Mode = Female\n",
      "Filled NaN in categorical column 'PeopleUserEmail' with Mode = abbottyvette@example.net\n",
      "Filled NaN in categorical column 'PeopleUserPhoneNo' with Mode = (034)867-8827x6777\n",
      "Filled NaN in categorical column 'PeopleUserDob' with Mode = 1908-08-22\n",
      "Filled NaN in categorical column 'PeopleUserJobdesc' with Mode = Biochemist, clinical\n",
      "The Database After Imputation of Missing Values is : \n",
      "    PeopleUserIndex    PeopleUser_Id PeopleUserFname PeopleUserLname PeopleUserGender             PeopleUserEmail       PeopleUserPhoneNo PeopleUserDob   PeopleUserJobdesc\n",
      "0                1  88F7B33d2bcf9f5          Shelby         Terrell             Male        elijah57@example.net  001-084-906-7849x73518    1945-10-26     Games developer\n",
      "1                2  f90cD3E76f1A9b9         Phillip         Summers           Female       bethany14@example.com       214.112.6044x4913    1910-03-24      Phytotherapist\n",
      "2                3  DbeAb8CcdfeFC2c        Kristine          Travis             Male       bthompson@example.com            277.609.7938    1992-07-02           Homeopath\n",
      "3                4  A31Bee3c201ef58         Yesenia        Martinez             Male   kaitlinkaiser@example.com            584.094.6111    2017-08-03   Market researcher\n",
      "4                5  1bA7A3dc874da3c            Lori            Todd             Male  buchananmanuel@example.net       689-207-3558x7233    1938-12-01  Veterinary surgeon\n"
     ]
    },
    {
     "name": "stderr",
     "output_type": "stream",
     "text": [
      "C:\\Users\\Vijay Pranav\\AppData\\Local\\Temp\\ipykernel_27460\\2851535699.py:5: FutureWarning: A value is trying to be set on a copy of a DataFrame or Series through chained assignment using an inplace method.\n",
      "The behavior will change in pandas 3.0. This inplace method will never work because the intermediate object on which we are setting values always behaves as a copy.\n",
      "\n",
      "For example, when doing 'df[col].method(value, inplace=True)', try using 'df.method({col: value}, inplace=True)' or df[col] = df[col].method(value) instead, to perform the operation inplace on the original object.\n",
      "\n",
      "\n",
      "  database[column].fillna(median_value , inplace=True)\n",
      "C:\\Users\\Vijay Pranav\\AppData\\Local\\Temp\\ipykernel_27460\\2851535699.py:10: FutureWarning: A value is trying to be set on a copy of a DataFrame or Series through chained assignment using an inplace method.\n",
      "The behavior will change in pandas 3.0. This inplace method will never work because the intermediate object on which we are setting values always behaves as a copy.\n",
      "\n",
      "For example, when doing 'df[col].method(value, inplace=True)', try using 'df.method({col: value}, inplace=True)' or df[col] = df[col].method(value) instead, to perform the operation inplace on the original object.\n",
      "\n",
      "\n",
      "  database[column].fillna(mode_value , inplace=True)\n"
     ]
    }
   ],
   "source": [
    "def Imputation_Of_Values(database):\n",
    "    for column in database.columns:\n",
    "        if np.issubdtype(database[column].dtype, np.number):\n",
    "            median_value = database[column].median()\n",
    "            database[column].fillna(median_value , inplace=True)\n",
    "            print(f\"Filled NaN in numeric column '{column}' with Median = {median_value}\")\n",
    "        \n",
    "        elif database[column].dtype == 'object':\n",
    "            mode_value = database[column].mode()[0]\n",
    "            database[column].fillna(mode_value , inplace=True)\n",
    "            print(f\"Filled NaN in categorical column '{column}' with Mode = {mode_value}\")\n",
    "        \n",
    "        elif np.issubdtype(database[column].dtype, np.datetime64):\n",
    "            database[column] = database[column].interpolate(method='time')\n",
    "            print(f\"Interpolated missing datetime values in '{column}'\")\n",
    "    \n",
    "    return database\n",
    "Database_After_Imputation = Imputation_Of_Values(database_Peoples)\n",
    "print(\"The Database After Imputation of Missing Values is : \\n\", Database_After_Imputation.head().to_string())"
   ]
  },
  {
   "cell_type": "code",
   "execution_count": 9,
   "id": "d7db4843",
   "metadata": {},
   "outputs": [],
   "source": [
    "#- Diagnose missingness patterns (MCAR, MAR, MNAR)"
   ]
  },
  {
   "cell_type": "code",
   "execution_count": 10,
   "id": "c9943b6d",
   "metadata": {},
   "outputs": [
    {
     "name": "stdout",
     "output_type": "stream",
     "text": [
      "PeopleUserIndex       int64\n",
      "PeopleUser_Id        object\n",
      "PeopleUserFname      object\n",
      "PeopleUserLname      object\n",
      "PeopleUserGender     object\n",
      "PeopleUserEmail      object\n",
      "PeopleUserPhoneNo    object\n",
      "PeopleUserDob        object\n",
      "PeopleUserJobdesc    object\n",
      "dtype: object\n",
      "\n",
      "\n",
      "Taking Copy of the dataframe for safety purposes\n",
      "\n",
      "   PeopleUserIndex    PeopleUser_Id PeopleUserFname PeopleUserLname PeopleUserGender             PeopleUserEmail       PeopleUserPhoneNo PeopleUserDob   PeopleUserJobdesc\n",
      "0                1  88F7B33d2bcf9f5          Shelby         Terrell             Male        elijah57@example.net  001-084-906-7849x73518    1945-10-26     Games developer\n",
      "1                2  f90cD3E76f1A9b9         Phillip         Summers           Female       bethany14@example.com       214.112.6044x4913    1910-03-24      Phytotherapist\n",
      "2                3  DbeAb8CcdfeFC2c        Kristine          Travis             Male       bthompson@example.com            277.609.7938    1992-07-02           Homeopath\n",
      "3                4  A31Bee3c201ef58         Yesenia        Martinez             Male   kaitlinkaiser@example.com            584.094.6111    2017-08-03   Market researcher\n",
      "4                5  1bA7A3dc874da3c            Lori            Todd             Male  buchananmanuel@example.net       689-207-3558x7233    1938-12-01  Veterinary surgeon\n",
      "\n",
      "\n",
      "Generating the Info of the Dataframe After Converting the PeopleUserDob Column to Datetime Format \n",
      "\n",
      "<class 'pandas.core.frame.DataFrame'>\n",
      "RangeIndex: 100 entries, 0 to 99\n",
      "Data columns (total 9 columns):\n",
      " #   Column             Non-Null Count  Dtype         \n",
      "---  ------             --------------  -----         \n",
      " 0   PeopleUserIndex    100 non-null    int64         \n",
      " 1   PeopleUser_Id      100 non-null    object        \n",
      " 2   PeopleUserFname    100 non-null    object        \n",
      " 3   PeopleUserLname    100 non-null    object        \n",
      " 4   PeopleUserGender   100 non-null    object        \n",
      " 5   PeopleUserEmail    100 non-null    object        \n",
      " 6   PeopleUserPhoneNo  100 non-null    object        \n",
      " 7   PeopleUserDob      100 non-null    datetime64[ns]\n",
      " 8   PeopleUserJobdesc  100 non-null    object        \n",
      "dtypes: datetime64[ns](1), int64(1), object(7)\n",
      "memory usage: 7.2+ KB\n",
      "None\n",
      "\n",
      "\n",
      "datetime64[ns]\n"
     ]
    }
   ],
   "source": [
    "#Convert strings to datetime objects (e.g., \"2023-12-01\" → datetime64)\n",
    "print(database_Peoples.dtypes)\n",
    "print(\"\\n\")\n",
    "\n",
    "print(\"Taking Copy of the dataframe for safety purposes\\n\")\n",
    "CopyPeopleDataframe = database_Peoples.copy()\n",
    "\n",
    "def StringDateTimeFunc(dataframe, dataframecols):\n",
    "    for col in dataframecols:\n",
    "        dataframe[col] = pd.to_datetime(dataframe[col], format='%Y-%m-%d', errors='coerce')\n",
    "    return dataframe\n",
    "\n",
    "# use it only on specific columns\n",
    "CopyPeopleDataframe = StringDateTimeFunc(database_Peoples, [\"PeopleUserDob\"])\n",
    "\n",
    "print(CopyPeopleDataframe.head().to_string())\n",
    "print(\"\\n\")\n",
    "print(\"Generating the Info of the Dataframe After Converting the PeopleUserDob Column to Datetime Format \\n\")\n",
    "print(CopyPeopleDataframe.info())\n",
    "print(\"\\n\")\n",
    "print(database_Peoples[\"PeopleUserDob\"].dtype)"
   ]
  },
  {
   "cell_type": "code",
   "execution_count": 11,
   "id": "90d4e790",
   "metadata": {},
   "outputs": [
    {
     "name": "stdout",
     "output_type": "stream",
     "text": [
      "Taking Copy of the dataframe for safety purposes\n",
      "\n",
      "PeopleUserIndex               int64\n",
      "PeopleUser_Id                object\n",
      "PeopleUserFname              object\n",
      "PeopleUserLname              object\n",
      "PeopleUserGender             object\n",
      "PeopleUserEmail              object\n",
      "PeopleUserPhoneNo            object\n",
      "PeopleUserDob        datetime64[ns]\n",
      "PeopleUserJobdesc            object\n",
      "dtype: object\n",
      "\n",
      "\n",
      "The Database After Fixing Numerical Columns is : \n",
      "    PeopleUserIndex    PeopleUser_Id PeopleUserFname PeopleUserLname PeopleUserGender             PeopleUserEmail PeopleUserPhoneNo PeopleUserDob   PeopleUserJobdesc\n",
      "0                1  88F7B33d2bcf9f5          Shelby         Terrell             Male        elijah57@example.net  001-084-906-7849    1945-10-26     Games developer\n",
      "1                2  f90cD3E76f1A9b9         Phillip         Summers           Female       bethany14@example.com      214-112-6044    1910-03-24      Phytotherapist\n",
      "2                3  DbeAb8CcdfeFC2c        Kristine          Travis             Male       bthompson@example.com      277-609-7938    1992-07-02           Homeopath\n",
      "3                4  A31Bee3c201ef58         Yesenia        Martinez             Male   kaitlinkaiser@example.com      584-094-6111    2017-08-03   Market researcher\n",
      "4                5  1bA7A3dc874da3c            Lori            Todd             Male  buchananmanuel@example.net      689-207-3558    1938-12-01  Veterinary surgeon\n",
      "\n",
      "\n",
      "Phone numbers after cleaning:\n",
      "   PeopleUserPhoneNo\n",
      "0  001-084-906-7849\n",
      "1      214-112-6044\n",
      "2      277-609-7938\n",
      "3      584-094-6111\n",
      "4      689-207-3558\n",
      "PeopleUserIndex               int64\n",
      "PeopleUser_Id                object\n",
      "PeopleUserFname              object\n",
      "PeopleUserLname              object\n",
      "PeopleUserGender             object\n",
      "PeopleUserEmail              object\n",
      "PeopleUserPhoneNo            object\n",
      "PeopleUserDob        datetime64[ns]\n",
      "PeopleUserJobdesc            object\n",
      "dtype: object\n"
     ]
    }
   ],
   "source": [
    "# Fix numerical columns trapped as strings (e.g., \"1,000\" → 1000)\n",
    "\n",
    "print(\"Taking Copy of the dataframe for safety purposes\\n\")\n",
    "CopyPeopleDataframe = database_Peoples.copy()\n",
    "\n",
    "print(database_Peoples.dtypes)\n",
    "print(\"\\n\")\n",
    "def StringCoverisonFunction(DataFrame, ColoumsDataframe):\n",
    "    for col in ColoumsDataframe:\n",
    "        peoplcont = []\n",
    "        for datapeopleinst in DataFrame[col]:\n",
    "            datapeopleinst = str(datapeopleinst)\n",
    "            datapeopleinst = datapeopleinst.replace(\".\", \"-\").replace(\" \", \"-\")\n",
    "            if \"x\" in datapeopleinst:\n",
    "                datapeopleinst = datapeopleinst.split(\"x\")[0]\n",
    "            datapeopleinst = datapeopleinst.strip(\"-\")\n",
    "            peoplcont.append(datapeopleinst.strip())\n",
    "        DataFrame[col] = peoplcont\n",
    "    return DataFrame\n",
    "DatabasePoplefinal = StringCoverisonFunction(database_Peoples, ['PeopleUserPhoneNo'])\n",
    "\n",
    "print(\"The Database After Fixing Numerical Columns is : \\n\", DatabasePoplefinal.head().to_string())\n",
    "\n",
    "print(\"\\n\")\n",
    "\n",
    "print(\"Phone numbers after cleaning:\\n\", DatabasePoplefinal[[\"PeopleUserPhoneNo\"]].head().to_string())\n",
    "print(DatabasePoplefinal.dtypes)\n",
    "\n",
    "\n"
   ]
  },
  {
   "cell_type": "code",
   "execution_count": 12,
   "id": "c63cfc2e",
   "metadata": {},
   "outputs": [
    {
     "name": "stdout",
     "output_type": "stream",
     "text": [
      "Assuming Here the Categorical Columns are : columns=   ['PeopleUserGender', 'PeopleUserJobdesc'] \n",
      "\n",
      "The Database After Standardization of Categorical Columns is : \n",
      "    PeopleUserIndex    PeopleUser_Id PeopleUserFname PeopleUserLname PeopleUserGender             PeopleUserEmail PeopleUserPhoneNo PeopleUserDob   PeopleUserJobdesc  PeopleUserGender_code  PeopleUserJobdesc_code\n",
      "0                1  88F7B33d2bcf9f5          Shelby         Terrell             male        elijah57@example.net  001-084-906-7849    1945-10-26     games developer                      1                      35\n",
      "1                2  f90cD3E76f1A9b9         Phillip         Summers           female       bethany14@example.com      214-112-6044    1910-03-24      phytotherapist                      0                      62\n",
      "2                3  DbeAb8CcdfeFC2c        Kristine          Travis             male       bthompson@example.com      277-609-7938    1992-07-02           homeopath                      1                      38\n",
      "3                4  A31Bee3c201ef58         Yesenia        Martinez             male   kaitlinkaiser@example.com      584-094-6111    2017-08-03   market researcher                      1                      50\n",
      "4                5  1bA7A3dc874da3c            Lori            Todd             male  buchananmanuel@example.net      689-207-3558    1938-12-01  veterinary surgeon                      1                      87\n"
     ]
    }
   ],
   "source": [
    "#Standardize categorical encoding\n",
    "from sklearn.preprocessing import LabelEncoder\n",
    "def CategoricalEncodeFunc(database, database_coloums):\n",
    "    peopledfcont = {}\n",
    "\n",
    "    for col in database_coloums:\n",
    "        codecont = LabelEncoder()\n",
    "        database[col] = database[col].astype(str).str.strip().str.lower()\n",
    "\n",
    "        \n",
    "        database[col + \"_code\"] = codecont.fit_transform(database[col])\n",
    "        peopledfcont[col] = codecont\n",
    "\n",
    "    return database, peopledfcont\n",
    "\n",
    "print(\"Assuming Here the Categorical Columns are : columns=   ['PeopleUserGender', 'PeopleUserJobdesc'] \\n\")\n",
    "modifieddataframe,peopledfcont = CategoricalEncodeFunc(database_Peoples,   ['PeopleUserGender', 'PeopleUserJobdesc'])\n",
    "print(\"The Database After Standardization of Categorical Columns is : \\n\", modifieddataframe.head().to_string())"
   ]
  },
  {
   "cell_type": "code",
   "execution_count": 13,
   "id": "bb8f1c40",
   "metadata": {},
   "outputs": [
    {
     "name": "stdout",
     "output_type": "stream",
     "text": [
      "Assuming Here the Text Columns are : ['PeopleUserFname', 'PeopleUserLname', 'PeopleUserGender', 'PeopleUserEmail', 'PeopleUserJobdesc'] \n",
      "\n",
      "The Database After Normalization of Text Columns is : \n",
      "    PeopleUserIndex    PeopleUser_Id PeopleUserFname PeopleUserLname PeopleUserGender             PeopleUserEmail PeopleUserPhoneNo PeopleUserDob   PeopleUserJobdesc  PeopleUserGender_code  PeopleUserJobdesc_code\n",
      "0                1  88F7B33d2bcf9f5          shelby         terrell             male        elijah57@example.net  001-084-906-7849    1945-10-26     games developer                      1                      35\n",
      "1                2  f90cD3E76f1A9b9         phillip         summers           female       bethany14@example.com      214-112-6044    1910-03-24      phytotherapist                      0                      62\n",
      "2                3  DbeAb8CcdfeFC2c        kristine          travis             male       bthompson@example.com      277-609-7938    1992-07-02           homeopath                      1                      38\n",
      "3                4  A31Bee3c201ef58         yesenia        martinez             male   kaitlinkaiser@example.com      584-094-6111    2017-08-03   market researcher                      1                      50\n",
      "4                5  1bA7A3dc874da3c            lori            todd             male  buchananmanuel@example.net      689-207-3558    1938-12-01  veterinary surgeon                      1                      87\n"
     ]
    }
   ],
   "source": [
    "def TextNormalizeFunc(database,ordcols):\n",
    "    for col in ordcols:\n",
    "        database[col] = database[col].astype(str).str.strip().str.lower()\n",
    "    return database\n",
    "print(\"Assuming Here the Text Columns are : ['PeopleUserFname', 'PeopleUserLname', 'PeopleUserGender', 'PeopleUserEmail', 'PeopleUserJobdesc'] \\n\")\n",
    "peopliseframe = TextNormalizeFunc(database_Peoples,['PeopleUserFname', 'PeopleUserLname', 'PeopleUserGender', 'PeopleUserEmail', 'PeopleUserJobdesc'])\n",
    "print(\"The Database After Normalization of Text Columns is : \\n\", peopliseframe.head().to_string())\n"
   ]
  },
  {
   "cell_type": "code",
   "execution_count": 14,
   "id": "86565944",
   "metadata": {},
   "outputs": [
    {
     "name": "stdout",
     "output_type": "stream",
     "text": [
      "Taking Copy of the dataframe for safety purposes\n",
      "\n",
      "In the People Dataset After the Gender Changes Has been Completd:\n",
      "   PeopleUserGender\n",
      "0             Male\n",
      "1           Female\n",
      "2             Male\n",
      "3             Male\n",
      "4             Male\n",
      "5             Male\n",
      "6           Female\n",
      "7             Male\n",
      "8             Male\n",
      "9             Male\n"
     ]
    }
   ],
   "source": [
    "#- Map categorical variants (e.g.,\"M\"/\"Male\" → \"Male\")\n",
    "print(\"Taking Copy of the dataframe for safety purposes\\n\")\n",
    "CopyPeopleDataframe = database_Peoples.copy()\n",
    "\n",
    "def peopleGenderChange(database):\n",
    "    database[\"PeopleUserGender\"] = database[\"PeopleUserGender\"].astype(str).str.strip().str.lower()\n",
    "    database[\"PeopleUserGender\"] = database[\"PeopleUserGender\"].replace({\n",
    "    \"m\": \"Male\",\"male\": \"Male\",\"f\": \"Female\",\"female\": \"Female\",\n",
    "    \"others\": \"Other\",\"o\": \"Other\"\n",
    "    \n",
    "})\n",
    "peopleGenderChange(database_Peoples)\n",
    "print(\"In the People Dataset After the Gender Changes Has been Completd:\\n\", database_Peoples[[\"PeopleUserGender\"]].head(10).to_string())"
   ]
  },
  {
   "cell_type": "code",
   "execution_count": 15,
   "id": "46bb7afb",
   "metadata": {},
   "outputs": [
    {
     "name": "stdout",
     "output_type": "stream",
     "text": [
      "\n",
      "\n",
      "   PeopleUserIndex    PeopleUser_Id PeopleUserFname PeopleUserLname PeopleUserGender             PeopleUserEmail PeopleUserPhoneNo PeopleUserDob   PeopleUserJobdesc  PeopleUserGender_code  PeopleUserJobdesc_code\n",
      "0                1  88F7B33d2bcf9f5          shelby         terrell             Male        elijah57@example.net  001-084-906-7849    1945-10-26     games developer                      1                      35\n",
      "1                2  f90cD3E76f1A9b9         phillip         summers           Female       bethany14@example.com      214-112-6044    1910-03-24      phytotherapist                      0                      62\n",
      "2                3  DbeAb8CcdfeFC2c        kristine          travis             Male       bthompson@example.com      277-609-7938    1992-07-02           homeopath                      1                      38\n",
      "3                4  A31Bee3c201ef58         yesenia        martinez             Male   kaitlinkaiser@example.com      584-094-6111    2017-08-03   market researcher                      1                      50\n",
      "4                5  1bA7A3dc874da3c            lori            todd             Male  buchananmanuel@example.net      689-207-3558    1938-12-01  veterinary surgeon                      1                      87\n",
      "\n",
      "\n",
      "<class 'pandas.core.frame.DataFrame'>\n",
      "RangeIndex: 100 entries, 0 to 99\n",
      "Data columns (total 11 columns):\n",
      " #   Column                  Non-Null Count  Dtype         \n",
      "---  ------                  --------------  -----         \n",
      " 0   PeopleUserIndex         100 non-null    int64         \n",
      " 1   PeopleUser_Id           100 non-null    object        \n",
      " 2   PeopleUserFname         100 non-null    object        \n",
      " 3   PeopleUserLname         100 non-null    object        \n",
      " 4   PeopleUserGender        100 non-null    object        \n",
      " 5   PeopleUserEmail         100 non-null    object        \n",
      " 6   PeopleUserPhoneNo       100 non-null    object        \n",
      " 7   PeopleUserDob           100 non-null    datetime64[ns]\n",
      " 8   PeopleUserJobdesc       100 non-null    object        \n",
      " 9   PeopleUserGender_code   100 non-null    int64         \n",
      " 10  PeopleUserJobdesc_code  100 non-null    int64         \n",
      "dtypes: datetime64[ns](1), int64(3), object(7)\n",
      "memory usage: 8.7+ KB\n",
      "None\n",
      "\n",
      "\n",
      "(100, 11)\n",
      "\n",
      "\n",
      "The Second of the  Fix inconsistent units (e.g., kg vs lbs)\n",
      "This is Not UseFull at all for the Given Organization Dataset As there are No Attributes Depecting Metric Measurements So Not Implemented For this Particular DatasetCode Alone\n",
      "\n"
     ]
    }
   ],
   "source": [
    "# Fix inconsistent units (e.g., \"kg\"vs \"lbs\")\n",
    "\n",
    "print(\"\\n\")\n",
    "print(database_Peoples.head().to_string())\n",
    "print(\"\\n\")\n",
    "print(database_Peoples.info())\n",
    "print(\"\\n\")\n",
    "print(database_Peoples.shape)\n",
    "print(\"\\n\")\n",
    "print(\"The Second of the  Fix inconsistent units (e.g., kg vs lbs)\\n\" \\\n",
    "\"This is Not UseFull at all for the Given Organization Dataset As there are No Attributes Depecting Metric Measurements So Not Implemented For this Particular DatasetCode Alone\\n\")"
   ]
  },
  {
   "cell_type": "code",
   "execution_count": null,
   "id": "6f460b34",
   "metadata": {},
   "outputs": [],
   "source": [
    "\n",
    "\n"
   ]
  },
  {
   "cell_type": "code",
   "execution_count": null,
   "id": "bde3bf3e",
   "metadata": {},
   "outputs": [],
   "source": []
  },
  {
   "cell_type": "code",
   "execution_count": null,
   "id": "b2cea9f7",
   "metadata": {},
   "outputs": [],
   "source": []
  }
 ],
 "metadata": {
  "kernelspec": {
   "display_name": "Python 3",
   "language": "python",
   "name": "python3"
  },
  "language_info": {
   "codemirror_mode": {
    "name": "ipython",
    "version": 3
   },
   "file_extension": ".py",
   "mimetype": "text/x-python",
   "name": "python",
   "nbconvert_exporter": "python",
   "pygments_lexer": "ipython3",
   "version": "3.13.2"
  }
 },
 "nbformat": 4,
 "nbformat_minor": 5
}
